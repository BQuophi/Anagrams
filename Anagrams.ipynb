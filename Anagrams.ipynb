{
 "cells": [
  {
   "cell_type": "code",
   "execution_count": 12,
   "id": "0d93901a",
   "metadata": {},
   "outputs": [
    {
     "name": "stdout",
     "output_type": "stream",
     "text": [
      "Enter first string: 21\n",
      "Enter second string: 12\n",
      "The strings are Anagrams!\n"
     ]
    }
   ],
   "source": [
    "# User inputs 2 strings or words\n",
    "str1 = input('Enter first string: ')\n",
    "str2 = input('Enter second string: ')\n",
    "\n",
    "# Anagrams should be words of the same length else program returns an AssertionError\n",
    "assert len(str1) == len(str2)\n",
    "\n",
    "# Using the set function. Here convert the strings to lower() for uniformity.\n",
    "if set(str1.lower()) == set(str2.lower()):\n",
    "    print('The strings are Anagrams!')\n",
    "else:\n",
    "    print('The strings are not Anagrams!')\n",
    "    \n",
    "# Note that the programs runs for any 2 strings whether they are words or not as long as they are of the same length. This also applies to integers as strings,for example: 21 & 12 returns the output as anagrams"
   ]
  },
  {
   "cell_type": "code",
   "execution_count": null,
   "id": "47e32877",
   "metadata": {},
   "outputs": [],
   "source": []
  },
  {
   "cell_type": "code",
   "execution_count": null,
   "id": "64832318",
   "metadata": {},
   "outputs": [],
   "source": []
  }
 ],
 "metadata": {
  "kernelspec": {
   "display_name": "Python 3 (ipykernel)",
   "language": "python",
   "name": "python3"
  },
  "language_info": {
   "codemirror_mode": {
    "name": "ipython",
    "version": 3
   },
   "file_extension": ".py",
   "mimetype": "text/x-python",
   "name": "python",
   "nbconvert_exporter": "python",
   "pygments_lexer": "ipython3",
   "version": "3.9.7"
  }
 },
 "nbformat": 4,
 "nbformat_minor": 5
}
